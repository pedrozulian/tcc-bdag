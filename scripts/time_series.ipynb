{
 "metadata": {
  "language_info": {
   "codemirror_mode": {
    "name": "ipython",
    "version": 3
   },
   "file_extension": ".py",
   "mimetype": "text/x-python",
   "name": "python",
   "nbconvert_exporter": "python",
   "pygments_lexer": "ipython3",
   "version": "3.8.7-final"
  },
  "orig_nbformat": 2,
  "kernelspec": {
   "name": "python3",
   "display_name": "Python 3",
   "language": "python"
  }
 },
 "nbformat": 4,
 "nbformat_minor": 2,
 "cells": [
  {
   "cell_type": "code",
   "execution_count": 2,
   "metadata": {},
   "outputs": [],
   "source": [
    "import numpy as np\n",
    "import pandas as pd"
   ]
  },
  {
   "cell_type": "code",
   "execution_count": 4,
   "metadata": {},
   "outputs": [
    {
     "output_type": "execute_result",
     "data": {
      "text/plain": [
       "            data  final  abertura  maxima  minima  volume  variacao   ano\n",
       "4965  05.01.2001  71.00      70.4    71.0   69.70    0.80      0.00  2001\n",
       "4964  08.01.2001  70.80      71.5    73.5   70.25    1.34      0.20  2001\n",
       "4963  09.01.2001  70.75      70.4    70.8   69.25    1.34      0.05  2001\n",
       "4962  10.01.2001  71.00      70.8    71.0   70.00    1.06     -0.25  2001\n",
       "4961  11.01.2001  71.45      70.9    71.8   70.50    0.80     -0.45  2001"
      ],
      "text/html": "<div>\n<style scoped>\n    .dataframe tbody tr th:only-of-type {\n        vertical-align: middle;\n    }\n\n    .dataframe tbody tr th {\n        vertical-align: top;\n    }\n\n    .dataframe thead th {\n        text-align: right;\n    }\n</style>\n<table border=\"1\" class=\"dataframe\">\n  <thead>\n    <tr style=\"text-align: right;\">\n      <th></th>\n      <th>data</th>\n      <th>final</th>\n      <th>abertura</th>\n      <th>maxima</th>\n      <th>minima</th>\n      <th>volume</th>\n      <th>variacao</th>\n      <th>ano</th>\n    </tr>\n  </thead>\n  <tbody>\n    <tr>\n      <th>4965</th>\n      <td>05.01.2001</td>\n      <td>71.00</td>\n      <td>70.4</td>\n      <td>71.0</td>\n      <td>69.70</td>\n      <td>0.80</td>\n      <td>0.00</td>\n      <td>2001</td>\n    </tr>\n    <tr>\n      <th>4964</th>\n      <td>08.01.2001</td>\n      <td>70.80</td>\n      <td>71.5</td>\n      <td>73.5</td>\n      <td>70.25</td>\n      <td>1.34</td>\n      <td>0.20</td>\n      <td>2001</td>\n    </tr>\n    <tr>\n      <th>4963</th>\n      <td>09.01.2001</td>\n      <td>70.75</td>\n      <td>70.4</td>\n      <td>70.8</td>\n      <td>69.25</td>\n      <td>1.34</td>\n      <td>0.05</td>\n      <td>2001</td>\n    </tr>\n    <tr>\n      <th>4962</th>\n      <td>10.01.2001</td>\n      <td>71.00</td>\n      <td>70.8</td>\n      <td>71.0</td>\n      <td>70.00</td>\n      <td>1.06</td>\n      <td>-0.25</td>\n      <td>2001</td>\n    </tr>\n    <tr>\n      <th>4961</th>\n      <td>11.01.2001</td>\n      <td>71.45</td>\n      <td>70.9</td>\n      <td>71.8</td>\n      <td>70.50</td>\n      <td>0.80</td>\n      <td>-0.45</td>\n      <td>2001</td>\n    </tr>\n  </tbody>\n</table>\n</div>"
     },
     "metadata": {},
     "execution_count": 4
    }
   ],
   "source": [
    "base = pd.read_csv('../data/coffee_data.csv')\n",
    "base['ano'] = base.data\n",
    "base.ano = base['ano'].str[6:11]\n",
    "base = base.iloc[::-1]\n",
    "base.head()\n",
    "# Rows 4996 x Columns 8"
   ]
  },
  {
   "cell_type": "code",
   "execution_count": 13,
   "metadata": {},
   "outputs": [],
   "source": [
    "splits = {'train': [], 'test': []}\n",
    "year_list = base['ano'].unique()"
   ]
  },
  {
   "cell_type": "code",
   "execution_count": null,
   "metadata": {
    "tags": []
   },
   "outputs": [],
   "source": [
    "for idx, yr in enumerate(year_list):\n",
    "    train_yr = year_list[:idx+1]\n",
    "    test_yr = [year_list[idx+1]]\n",
    "    # print('TRAIN: ', train_yr, 'TEST: ',test_yr)\n",
    "    splits['test'] = []\n",
    "    for i, row in base.iterrows():\n",
    "        for y in train_yr:\n",
    "            if row['ano'] == y:\n",
    "                splits['train'].append(row)\n",
    "        if row['ano'] == yr:\n",
    "            splits['test'].append(row)\n",
    "    "
   ]
  }
 ]
}