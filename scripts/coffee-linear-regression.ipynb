{
 "cells": [
  {
   "cell_type": "code",
   "execution_count": 1,
   "id": "after-mistake",
   "metadata": {},
   "outputs": [],
   "source": [
    "import numpy as np\n",
    "import pandas as pd\n",
    "\n",
    "from sklearn.linear_model import LinearRegression\n",
    "from sklearn.neural_network import MLPRegressor\n",
    "from sklearn.neighbors import KNeighborsRegressor\n",
    "from sklearn.tree import DecisionTreeRegressor\n",
    "from sklearn import linear_model\n",
    "from sklearn.dummy import DummyRegressor\n",
    "\n",
    "from sklearn.preprocessing import MinMaxScaler\n",
    "from sklearn.metrics import mean_squared_error, mean_absolute_error, r2_score\n",
    "from sklearn.metrics import  confusion_matrix"
   ]
  },
  {
   "cell_type": "markdown",
   "id": "mobile-halifax",
   "metadata": {},
   "source": [
    "<h2>Importando dataset </h2><h3>Dados históricos do preço diário do café dos anos 2011 até 2020</h3>"
   ]
  },
  {
   "cell_type": "markdown",
   "id": "statutory-casting",
   "metadata": {},
   "source": [
    "<h4>\n",
    "    <span style=\"color: #00008B\">brl_price_yesterday</span>: Preço em BRL do dia anterior (ontem)<br><br>\n",
    "    <span style=\"color: #00008B\">brl_price_yesterday-1</span>: Preço em BRL do dia precedente ao anterior (anteontem)<br><br>\n",
    "    <span style=\"color: #00008B\">var_brl_price_yesterday</span>: Variação em BRL dos dias anteriores (ontem e anteontem)<br><br>\n",
    "    <span style=\"color: #00008B\">var_usd_price_yesterday</span>: Variação em USD dos dias anteriores (ontem e anteontem)<br><br>\n",
    "    <span style=\"color: #00008B\">usd</span>: Preço do dolar para o câmbio BRL -> USD<br><br>\n",
    "    <span style=\"color: #00008B\">brl_price</span>: Preço da saca em BRL\n",
    "</h4>"
   ]
  },
  {
   "cell_type": "code",
   "execution_count": 2,
   "id": "interior-right",
   "metadata": {
    "scrolled": true
   },
   "outputs": [
    {
     "data": {
      "text/html": [
       "<div>\n",
       "<style scoped>\n",
       "    .dataframe tbody tr th:only-of-type {\n",
       "        vertical-align: middle;\n",
       "    }\n",
       "\n",
       "    .dataframe tbody tr th {\n",
       "        vertical-align: top;\n",
       "    }\n",
       "\n",
       "    .dataframe thead th {\n",
       "        text-align: right;\n",
       "    }\n",
       "</style>\n",
       "<table border=\"1\" class=\"dataframe\">\n",
       "  <thead>\n",
       "    <tr style=\"text-align: right;\">\n",
       "      <th></th>\n",
       "      <th>brl_price_yesterday</th>\n",
       "      <th>brl_price_yesterday-1</th>\n",
       "      <th>var_brl_price_yesterday</th>\n",
       "      <th>var_usd_price_yesterday</th>\n",
       "      <th>usd</th>\n",
       "      <th>brl_price</th>\n",
       "    </tr>\n",
       "    <tr>\n",
       "      <th>data</th>\n",
       "      <th></th>\n",
       "      <th></th>\n",
       "      <th></th>\n",
       "      <th></th>\n",
       "      <th></th>\n",
       "      <th></th>\n",
       "    </tr>\n",
       "  </thead>\n",
       "  <tbody>\n",
       "    <tr>\n",
       "      <th>2012-06-01</th>\n",
       "      <td>476.49</td>\n",
       "      <td>481.49</td>\n",
       "      <td>-5.00</td>\n",
       "      <td>0.68</td>\n",
       "      <td>1.8579</td>\n",
       "      <td>481.91</td>\n",
       "    </tr>\n",
       "    <tr>\n",
       "      <th>2012-09-01</th>\n",
       "      <td>481.91</td>\n",
       "      <td>476.49</td>\n",
       "      <td>5.42</td>\n",
       "      <td>5.80</td>\n",
       "      <td>1.8329</td>\n",
       "      <td>488.41</td>\n",
       "    </tr>\n",
       "    <tr>\n",
       "      <th>2012-10-01</th>\n",
       "      <td>488.41</td>\n",
       "      <td>481.91</td>\n",
       "      <td>6.50</td>\n",
       "      <td>6.87</td>\n",
       "      <td>1.7995</td>\n",
       "      <td>491.50</td>\n",
       "    </tr>\n",
       "    <tr>\n",
       "      <th>2012-11-01</th>\n",
       "      <td>491.50</td>\n",
       "      <td>488.41</td>\n",
       "      <td>3.09</td>\n",
       "      <td>7.60</td>\n",
       "      <td>1803.0000</td>\n",
       "      <td>504.65</td>\n",
       "    </tr>\n",
       "    <tr>\n",
       "      <th>2012-12-01</th>\n",
       "      <td>504.65</td>\n",
       "      <td>491.50</td>\n",
       "      <td>13.15</td>\n",
       "      <td>0.88</td>\n",
       "      <td>1778.0000</td>\n",
       "      <td>501.74</td>\n",
       "    </tr>\n",
       "  </tbody>\n",
       "</table>\n",
       "</div>"
      ],
      "text/plain": [
       "            brl_price_yesterday  brl_price_yesterday-1  \\\n",
       "data                                                     \n",
       "2012-06-01               476.49                 481.49   \n",
       "2012-09-01               481.91                 476.49   \n",
       "2012-10-01               488.41                 481.91   \n",
       "2012-11-01               491.50                 488.41   \n",
       "2012-12-01               504.65                 491.50   \n",
       "\n",
       "            var_brl_price_yesterday  var_usd_price_yesterday        usd  \\\n",
       "data                                                                      \n",
       "2012-06-01                    -5.00                     0.68     1.8579   \n",
       "2012-09-01                     5.42                     5.80     1.8329   \n",
       "2012-10-01                     6.50                     6.87     1.7995   \n",
       "2012-11-01                     3.09                     7.60  1803.0000   \n",
       "2012-12-01                    13.15                     0.88  1778.0000   \n",
       "\n",
       "            brl_price  \n",
       "data                   \n",
       "2012-06-01     481.91  \n",
       "2012-09-01     488.41  \n",
       "2012-10-01     491.50  \n",
       "2012-11-01     504.65  \n",
       "2012-12-01     501.74  "
      ]
     },
     "execution_count": 2,
     "metadata": {},
     "output_type": "execute_result"
    }
   ],
   "source": [
    "df = pd.read_csv('../data/dataset.csv')\n",
    "df['data'] = pd.to_datetime(df['data'])\n",
    "df = df.set_index(\"data\")\n",
    "df.head()"
   ]
  },
  {
   "cell_type": "markdown",
   "id": "harmful-island",
   "metadata": {},
   "source": [
    "<h2>Aplicando modelos de ML e IA</h2>\n",
    "<h3>Modelos aplicados dentro de uma série temporal</h3>"
   ]
  },
  {
   "cell_type": "code",
   "execution_count": 3,
   "id": "recorded-american",
   "metadata": {},
   "outputs": [
    {
     "name": "stdout",
     "output_type": "stream",
     "text": [
      "TRAIN:  [2012] TEST:  [2013]\n",
      "TRAIN:  [2012, 2013] TEST:  [2014]\n",
      "TRAIN:  [2012, 2013, 2014] TEST:  [2015]\n",
      "TRAIN:  [2012, 2013, 2014, 2015] TEST:  [2016]\n",
      "TRAIN:  [2012, 2013, 2014, 2015, 2016] TEST:  [2017]\n",
      "TRAIN:  [2012, 2013, 2014, 2015, 2016, 2017] TEST:  [2018]\n",
      "TRAIN:  [2012, 2013, 2014, 2015, 2016, 2017, 2018] TEST:  [2019]\n",
      "TRAIN:  [2012, 2013, 2014, 2015, 2016, 2017, 2018, 2019] TEST:  [2020]\n"
     ]
    }
   ],
   "source": [
    "year_list = df.index.year.unique().tolist()\n",
    "splits = {'train': [], 'test': []}\n",
    "\n",
    "for idx, yr in enumerate(year_list[:-1]):\n",
    "    train_yr = year_list[:idx+1]\n",
    "    test_yr = [year_list[idx+1]]\n",
    "    print('TRAIN: ', train_yr, 'TEST: ',test_yr)\n",
    "    \n",
    "    splits['train'].append(df.loc[df.index.year.isin(train_yr), :])\n",
    "    splits['test'].append(df.loc[df.index.year.isin(test_yr), :])\n",
    "    \n",
    "    X_train = splits['train'][idx].drop(['brl_price'], axis = 1).values # X\n",
    "    y_train = splits['train'][idx]['brl_price'].values # Y\n",
    "    \n",
    "    X_test =  splits['test'][idx].drop(['brl_price'], axis = 1).values\n",
    "    y_test = splits['test'][idx]['brl_price'].values\n",
    "    \n",
    "##  Linear Regressor\n",
    "    lr_reg = LinearRegression().fit(X_train, y_train)\n",
    "    lr_pred = lr_reg.predict(X_test)\n",
    "    \n",
    "##  MLP Regressor\n",
    "    mlp_reg = MLPRegressor(random_state=1, max_iter=600).fit(X_train, y_train)\n",
    "    mlp_pred = mlp_reg.predict(X_test)\n",
    "\n",
    "##  KNN Regressor\n",
    "    knn_reg = KNeighborsRegressor(n_neighbors=5).fit(X_train, y_train)\n",
    "    knn_pred = knn_reg.predict(X_test)\n",
    "\n",
    "##  Decision Tree Regressor\n",
    "    tree_reg = DecisionTreeRegressor().fit(X_train, y_train)\n",
    "    tree_pred = tree_reg.predict(X_test)\n",
    "\n",
    "##  GaussianNB Regressor\n",
    "    bayes_reg = linear_model.BayesianRidge().fit(X_train, y_train)\n",
    "    bayes_pred = bayes_reg.predict(X_test)\n",
    "\n",
    "##  Dummy Regressor\n",
    "    dummy_reg = DummyRegressor(strategy=\"median\").fit(X_train, y_train)\n",
    "    dummy_pred = dummy_reg.predict(X_test)\n",
    "    "
   ]
  },
  {
   "cell_type": "markdown",
   "id": "material-kitty",
   "metadata": {},
   "source": [
    "<h2>Precisão dos modelos</h2>\n",
    "<h3>Scores referentes ao último ano do dadaset: 2020</h3>"
   ]
  },
  {
   "cell_type": "code",
   "execution_count": 4,
   "id": "pointed-president",
   "metadata": {},
   "outputs": [
    {
     "name": "stdout",
     "output_type": "stream",
     "text": [
      "LR SCORE:  0.9825239588972645\n",
      "MLP SCORE:  0.9815081700328495\n",
      "KNN SCORE:  0.5719265161107357\n",
      "TREE SCORE:  0.8402318948086785\n",
      "BAYES SCORE:  0.9825184467921523\n",
      "DUMMY SCORE:  -6.1918704506496995 \n",
      "\n"
     ]
    }
   ],
   "source": [
    "print('LR SCORE: ', r2_score(y_test, lr_pred))\n",
    "print('MLP SCORE: ', r2_score(y_test, mlp_pred))\n",
    "print('KNN SCORE: ', r2_score(y_test, knn_pred))\n",
    "print('TREE SCORE: ', r2_score(y_test, tree_pred))\n",
    "print(\"BAYES SCORE: \", r2_score(y_test, bayes_pred))\n",
    "print('DUMMY SCORE: ', r2_score(y_test, dummy_pred), '\\n')"
   ]
  },
  {
   "cell_type": "markdown",
   "id": "cordless-right",
   "metadata": {},
   "source": [
    "<h2>Analise dos resultados obtidos pelos modelos</h2>\n",
    "<h3>Principais features, modelos, comparação entre valor real e predito</h3>"
   ]
  },
  {
   "cell_type": "code",
   "execution_count": 5,
   "id": "centered-thanksgiving",
   "metadata": {},
   "outputs": [
    {
     "data": {
      "text/plain": [
       "<matplotlib.collections.PathCollection at 0x7f78a47316a0>"
      ]
     },
     "execution_count": 5,
     "metadata": {},
     "output_type": "execute_result"
    },
    {
     "data": {
      "image/png": "[encoded data removed]",
      "text/plain": [
       "<Figure size 432x288 with 1 Axes>"
      ]
     },
     "metadata": {
      "needs_background": "light"
     },
     "output_type": "display_data"
    }
   ],
   "source": [
    "import matplotlib.pyplot as plt\n",
    "plt.scatter(y_test, lr_pred)"
   ]
  },
  {
   "cell_type": "code",
   "execution_count": 6,
   "id": "tested-pollution",
   "metadata": {},
   "outputs": [
    {
     "data": {
      "text/html": [
       "<div>\n",
       "<style scoped>\n",
       "    .dataframe tbody tr th:only-of-type {\n",
       "        vertical-align: middle;\n",
       "    }\n",
       "\n",
       "    .dataframe tbody tr th {\n",
       "        vertical-align: top;\n",
       "    }\n",
       "\n",
       "    .dataframe thead th {\n",
       "        text-align: right;\n",
       "    }\n",
       "</style>\n",
       "<table border=\"1\" class=\"dataframe\">\n",
       "  <thead>\n",
       "    <tr style=\"text-align: right;\">\n",
       "      <th></th>\n",
       "      <th>real</th>\n",
       "      <th>predict</th>\n",
       "    </tr>\n",
       "  </thead>\n",
       "  <tbody>\n",
       "    <tr>\n",
       "      <th>0</th>\n",
       "      <td>534.42</td>\n",
       "      <td>547.314</td>\n",
       "    </tr>\n",
       "    <tr>\n",
       "      <th>1</th>\n",
       "      <td>534.07</td>\n",
       "      <td>534.410</td>\n",
       "    </tr>\n",
       "    <tr>\n",
       "      <th>2</th>\n",
       "      <td>514.24</td>\n",
       "      <td>537.170</td>\n",
       "    </tr>\n",
       "    <tr>\n",
       "      <th>3</th>\n",
       "      <td>509.50</td>\n",
       "      <td>519.304</td>\n",
       "    </tr>\n",
       "    <tr>\n",
       "      <th>4</th>\n",
       "      <td>502.34</td>\n",
       "      <td>506.928</td>\n",
       "    </tr>\n",
       "    <tr>\n",
       "      <th>...</th>\n",
       "      <td>...</td>\n",
       "      <td>...</td>\n",
       "    </tr>\n",
       "    <tr>\n",
       "      <th>244</th>\n",
       "      <td>598.68</td>\n",
       "      <td>559.536</td>\n",
       "    </tr>\n",
       "    <tr>\n",
       "      <th>245</th>\n",
       "      <td>600.82</td>\n",
       "      <td>559.536</td>\n",
       "    </tr>\n",
       "    <tr>\n",
       "      <th>246</th>\n",
       "      <td>607.83</td>\n",
       "      <td>559.536</td>\n",
       "    </tr>\n",
       "    <tr>\n",
       "      <th>247</th>\n",
       "      <td>608.35</td>\n",
       "      <td>559.536</td>\n",
       "    </tr>\n",
       "    <tr>\n",
       "      <th>248</th>\n",
       "      <td>606.69</td>\n",
       "      <td>559.536</td>\n",
       "    </tr>\n",
       "  </tbody>\n",
       "</table>\n",
       "<p>249 rows × 2 columns</p>\n",
       "</div>"
      ],
      "text/plain": [
       "       real  predict\n",
       "0    534.42  547.314\n",
       "1    534.07  534.410\n",
       "2    514.24  537.170\n",
       "3    509.50  519.304\n",
       "4    502.34  506.928\n",
       "..      ...      ...\n",
       "244  598.68  559.536\n",
       "245  600.82  559.536\n",
       "246  607.83  559.536\n",
       "247  608.35  559.536\n",
       "248  606.69  559.536\n",
       "\n",
       "[249 rows x 2 columns]"
      ]
     },
     "execution_count": 6,
     "metadata": {},
     "output_type": "execute_result"
    }
   ],
   "source": [
    "df_results = pd.DataFrame({'real': y_test, 'predict': knn_pred})\n",
    "df_results"
   ]
  },
  {
   "cell_type": "code",
   "execution_count": 7,
   "id": "treated-albert",
   "metadata": {},
   "outputs": [
    {
     "data": {
      "text/plain": [
       "<matplotlib.legend.Legend at 0x7f78a463ab50>"
      ]
     },
     "execution_count": 7,
     "metadata": {},
     "output_type": "execute_result"
    },
    {
     "data": {
      "image/png": "[encoded data removed]",
      "text/plain": [
       "<Figure size 936x432 with 1 Axes>"
      ]
     },
     "metadata": {
      "needs_background": "light"
     },
     "output_type": "display_data"
    }
   ],
   "source": [
    "plt.subplots(figsize=(13, 6))\n",
    "plt.plot(df_results.loc[:, 'real'], linestyle='-', linewidth = 2, color='g', label='Real BRL price')\n",
    "plt.plot(df_results.loc[:, 'predict'], linestyle='-', linewidth = 2, color='orange', label='Predict BRL price')\n",
    "plt.ylabel('Preço da saca de soja (BRL)')\n",
    "plt.xlabel('Dias do ano de 2020')\n",
    "plt.legend()"
   ]
  },
  {
   "cell_type": "code",
   "execution_count": null,
   "id": "statistical-impact",
   "metadata": {},
   "outputs": [],
   "source": []
  }
 ],
 "metadata": {
  "kernelspec": {
   "display_name": "Python 3",
   "language": "python",
   "name": "python3"
  },
  "language_info": {
   "codemirror_mode": {
    "name": "ipython",
    "version": 3
   },
   "file_extension": ".py",
   "mimetype": "text/x-python",
   "name": "python",
   "nbconvert_exporter": "python",
   "pygments_lexer": "ipython3",
   "version": "3.8.8+"
  }
 },
 "nbformat": 4,
 "nbformat_minor": 5
}
