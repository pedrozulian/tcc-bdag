{
 "cells": [
  {
   "cell_type": "code",
   "execution_count": 229,
   "id": "after-mistake",
   "metadata": {},
   "outputs": [],
   "source": [
    "import numpy as np\n",
    "import pandas as pd\n",
    "\n",
    "from sklearn.linear_model import LinearRegression\n",
    "from sklearn.neural_network import MLPRegressor\n",
    "from sklearn.neighbors import KNeighborsRegressor\n",
    "from sklearn.tree import DecisionTreeRegressor\n",
    "from sklearn import linear_model\n",
    "from sklearn.dummy import DummyRegressor\n",
    "\n",
    "from sklearn.preprocessing import MinMaxScaler\n",
    "from sklearn.metrics import mean_squared_error, mean_absolute_error, r2_score"
   ]
  },
  {
   "cell_type": "code",
   "execution_count": 230,
   "id": "interior-right",
   "metadata": {},
   "outputs": [
    {
     "data": {
      "text/html": [
       "<div>\n",
       "<style scoped>\n",
       "    .dataframe tbody tr th:only-of-type {\n",
       "        vertical-align: middle;\n",
       "    }\n",
       "\n",
       "    .dataframe tbody tr th {\n",
       "        vertical-align: top;\n",
       "    }\n",
       "\n",
       "    .dataframe thead th {\n",
       "        text-align: right;\n",
       "    }\n",
       "</style>\n",
       "<table border=\"1\" class=\"dataframe\">\n",
       "  <thead>\n",
       "    <tr style=\"text-align: right;\">\n",
       "      <th></th>\n",
       "      <th>preco_anterior_br</th>\n",
       "      <th>preco_2_anterior_br</th>\n",
       "      <th>var_preco_anterior_2_anterior_br</th>\n",
       "      <th>var_preco_anterior_2_anterior_eua</th>\n",
       "      <th>dolar</th>\n",
       "      <th>preco_br</th>\n",
       "    </tr>\n",
       "    <tr>\n",
       "      <th>data</th>\n",
       "      <th></th>\n",
       "      <th></th>\n",
       "      <th></th>\n",
       "      <th></th>\n",
       "      <th></th>\n",
       "      <th></th>\n",
       "    </tr>\n",
       "  </thead>\n",
       "  <tbody>\n",
       "    <tr>\n",
       "      <th>2012-06-01</th>\n",
       "      <td>476.49</td>\n",
       "      <td>481.49</td>\n",
       "      <td>-5.00</td>\n",
       "      <td>0.68</td>\n",
       "      <td>1.8579</td>\n",
       "      <td>481.91</td>\n",
       "    </tr>\n",
       "    <tr>\n",
       "      <th>2012-09-01</th>\n",
       "      <td>481.91</td>\n",
       "      <td>476.49</td>\n",
       "      <td>5.42</td>\n",
       "      <td>5.80</td>\n",
       "      <td>1.8329</td>\n",
       "      <td>488.41</td>\n",
       "    </tr>\n",
       "    <tr>\n",
       "      <th>2012-10-01</th>\n",
       "      <td>488.41</td>\n",
       "      <td>481.91</td>\n",
       "      <td>6.50</td>\n",
       "      <td>6.87</td>\n",
       "      <td>1.7995</td>\n",
       "      <td>491.50</td>\n",
       "    </tr>\n",
       "    <tr>\n",
       "      <th>2012-11-01</th>\n",
       "      <td>491.50</td>\n",
       "      <td>488.41</td>\n",
       "      <td>3.09</td>\n",
       "      <td>7.60</td>\n",
       "      <td>1.8030</td>\n",
       "      <td>504.65</td>\n",
       "    </tr>\n",
       "    <tr>\n",
       "      <th>2012-12-01</th>\n",
       "      <td>504.65</td>\n",
       "      <td>491.50</td>\n",
       "      <td>13.15</td>\n",
       "      <td>0.88</td>\n",
       "      <td>1.7780</td>\n",
       "      <td>501.74</td>\n",
       "    </tr>\n",
       "  </tbody>\n",
       "</table>\n",
       "</div>"
      ],
      "text/plain": [
       "            preco_anterior_br  preco_2_anterior_br  \\\n",
       "data                                                 \n",
       "2012-06-01             476.49               481.49   \n",
       "2012-09-01             481.91               476.49   \n",
       "2012-10-01             488.41               481.91   \n",
       "2012-11-01             491.50               488.41   \n",
       "2012-12-01             504.65               491.50   \n",
       "\n",
       "            var_preco_anterior_2_anterior_br  \\\n",
       "data                                           \n",
       "2012-06-01                             -5.00   \n",
       "2012-09-01                              5.42   \n",
       "2012-10-01                              6.50   \n",
       "2012-11-01                              3.09   \n",
       "2012-12-01                             13.15   \n",
       "\n",
       "            var_preco_anterior_2_anterior_eua   dolar  preco_br  \n",
       "data                                                             \n",
       "2012-06-01                               0.68  1.8579    481.91  \n",
       "2012-09-01                               5.80  1.8329    488.41  \n",
       "2012-10-01                               6.87  1.7995    491.50  \n",
       "2012-11-01                               7.60  1.8030    504.65  \n",
       "2012-12-01                               0.88  1.7780    501.74  "
      ]
     },
     "execution_count": 230,
     "metadata": {},
     "output_type": "execute_result"
    }
   ],
   "source": [
    "df = pd.read_csv('../data/dados-cafe-testes.csv')\n",
    "df['data'] = pd.to_datetime(df['data'])\n",
    "df = df.set_index(\"data\")\n",
    "df.head()"
   ]
  },
  {
   "cell_type": "code",
   "execution_count": 231,
   "id": "cubic-tracker",
   "metadata": {},
   "outputs": [],
   "source": [
    "scaler_x = MinMaxScaler()\n",
    "df[['preco_anterior_br', 'preco_2_anterior_br', 'var_preco_anterior_2_anterior_eua', 'var_preco_anterior_2_anterior_br', 'dolar']] = scaler_x.fit_transform(df[['preco_anterior_br', 'preco_2_anterior_br', 'var_preco_anterior_2_anterior_eua', 'var_preco_anterior_2_anterior_br', 'dolar']])"
   ]
  },
  {
   "cell_type": "code",
   "execution_count": 232,
   "id": "settled-condition",
   "metadata": {},
   "outputs": [],
   "source": [
    "scaler_y = MinMaxScaler()\n",
    "df[['preco_br']] = scaler_y.fit_transform(df[['preco_br']])"
   ]
  },
  {
   "cell_type": "code",
   "execution_count": 233,
   "id": "recorded-american",
   "metadata": {
    "scrolled": true
   },
   "outputs": [
    {
     "name": "stdout",
     "output_type": "stream",
     "text": [
      "TRAIN:  [2012] TEST:  [2013]\n",
      "LR SCORE:  0.9810240077426471\n",
      "MLP SCORE:  -0.16444702773337871\n",
      "KNN SCORE:  -3.4286498346972225\n",
      "TREE SCORE:  -3.2613195608286905\n",
      "BAYES SCORE:  0.9810012781448769\n",
      "DUMMY SCORE:  -12.537090605675848 \n",
      "\n",
      "TRAIN:  [2012, 2013] TEST:  [2014]\n",
      "LR SCORE:  0.9914656868544733\n",
      "MLP SCORE:  0.9631335678250053\n",
      "KNN SCORE:  0.9006387495703534\n",
      "TREE SCORE:  0.8541495680442149\n",
      "BAYES SCORE:  0.9915029912659142\n",
      "DUMMY SCORE:  -2.0655017694263345 \n",
      "\n",
      "TRAIN:  [2012, 2013, 2014] TEST:  [2015]\n",
      "LR SCORE:  0.9667348406848784\n",
      "MLP SCORE:  0.8990077350552772\n",
      "KNN SCORE:  0.37942268688186\n",
      "TREE SCORE:  0.8880742196416715\n",
      "BAYES SCORE:  0.9667624825684521\n",
      "DUMMY SCORE:  -10.21701495765664 \n",
      "\n",
      "TRAIN:  [2012, 2013, 2014, 2015] TEST:  [2016]\n",
      "LR SCORE:  0.9752835750903927\n",
      "MLP SCORE:  0.8690226426076126\n",
      "KNN SCORE:  0.032004246137512404\n",
      "TREE SCORE:  0.25324717084575354\n",
      "BAYES SCORE:  0.9752748402195717\n",
      "DUMMY SCORE:  -14.955127718767908 \n",
      "\n",
      "TRAIN:  [2012, 2013, 2014, 2015, 2016] TEST:  [2017]\n",
      "LR SCORE:  0.9844113381426701\n",
      "MLP SCORE:  0.9686314566633337\n",
      "KNN SCORE:  0.9327820115107639\n",
      "TREE SCORE:  0.9402723326225392\n",
      "BAYES SCORE:  0.9846265941326262\n",
      "DUMMY SCORE:  -3.2132034102843097 \n",
      "\n",
      "TRAIN:  [2012, 2013, 2014, 2015, 2016, 2017] TEST:  [2018]\n",
      "LR SCORE:  0.9494433249999613\n",
      "MLP SCORE:  0.8596700052457591\n",
      "KNN SCORE:  -0.24310936448558218\n",
      "TREE SCORE:  0.8794253428372536\n",
      "BAYES SCORE:  0.9494499777639289\n",
      "DUMMY SCORE:  -0.38812688007308305 \n",
      "\n",
      "TRAIN:  [2012, 2013, 2014, 2015, 2016, 2017, 2018] TEST:  [2019]\n",
      "LR SCORE:  0.9941846835496259\n",
      "MLP SCORE:  0.9815730752231372\n",
      "KNN SCORE:  0.8705156365248712\n",
      "TREE SCORE:  0.9804774268941581\n",
      "BAYES SCORE:  0.9942021538626106\n",
      "DUMMY SCORE:  -0.170096102847338 \n",
      "\n",
      "TRAIN:  [2012, 2013, 2014, 2015, 2016, 2017, 2018, 2019] TEST:  [2020]\n",
      "LR SCORE:  0.9826543487380639\n",
      "MLP SCORE:  0.9228145382026378\n",
      "KNN SCORE:  0.6678435234814134\n",
      "TREE SCORE:  0.8262704846826219\n",
      "BAYES SCORE:  0.982673615272659\n",
      "DUMMY SCORE:  -6.1918704506496995 \n",
      "\n"
     ]
    }
   ],
   "source": [
    "year_list = df.index.year.unique().tolist()\n",
    "splits = {'train': [], 'test': []}\n",
    "\n",
    "for idx, yr in enumerate(year_list[:-1]):\n",
    "    train_yr = year_list[:idx+1]\n",
    "    test_yr = [year_list[idx+1]]\n",
    "    print('TRAIN: ', train_yr, 'TEST: ',test_yr)\n",
    "    \n",
    "    splits['train'].append(df.loc[df.index.year.isin(train_yr), :])\n",
    "    splits['test'].append(df.loc[df.index.year.isin(test_yr), :])\n",
    "    \n",
    "    X_train = splits['train'][idx].drop(['preco_br'], axis = 1).values # X\n",
    "    y_train = splits['train'][idx]['preco_br'].values # Y\n",
    "    \n",
    "    X_test =  splits['test'][idx].drop(['preco_br'], axis = 1).values\n",
    "    y_test = splits['test'][idx]['preco_br'].values\n",
    "    \n",
    "# [x] Linear Regressor\n",
    "    lr_reg = LinearRegression().fit(X_train, y_train)\n",
    "    lr_pred = lr_reg.predict(X_test)\n",
    "    print('LR SCORE: ', r2_score(y_test, lr_pred))\n",
    "    \n",
    "# [x] MLP Regressor\n",
    "    mlp_reg = MLPRegressor(random_state=1, max_iter=600).fit(X_train, y_train)\n",
    "    mlp_pred = mlp_reg.predict(X_test)\n",
    "    print('MLP SCORE: ', r2_score(y_test, mlp_pred))\n",
    "\n",
    "# [x] KNN Regressor\n",
    "    neigh_reg = KNeighborsRegressor(n_neighbors=5).fit(X_train, y_train)\n",
    "    neigh_pred = neigh_reg.predict(X_test)\n",
    "    print('KNN SCORE: ', r2_score(y_test, neigh_pred))\n",
    "\n",
    "\n",
    "# [x] # Decision Tree Regressor\n",
    "    tree_reg = DecisionTreeRegressor().fit(X_train, y_train)\n",
    "    tree_pred = tree_reg.predict(X_test)\n",
    "    print('TREE SCORE: ', r2_score(y_test, tree_pred))\n",
    "\n",
    "# [ ] GaussianNB Regressor\n",
    "    bayes_reg = linear_model.BayesianRidge().fit(X_train, y_train)\n",
    "    bayes_pred = bayes_reg.predict(X_test)\n",
    "    print(\"BAYES SCORE: \", r2_score(y_test, bayes_pred))\n",
    "\n",
    "# [x] Dummy Regressor [x]\n",
    "    dummy_reg = DummyRegressor(strategy=\"median\").fit(X_train, y_train)\n",
    "    dummy_pred = dummy_reg.predict(X_test)\n",
    "    print('DUMMY SCORE: ', r2_score(y_test, dummy_pred), '\\n')\n",
    "    "
   ]
  },
  {
   "cell_type": "code",
   "execution_count": 234,
   "id": "centered-thanksgiving",
   "metadata": {
    "scrolled": true
   },
   "outputs": [
    {
     "data": {
      "text/plain": [
       "<matplotlib.collections.PathCollection at 0x7f49b3563730>"
      ]
     },
     "execution_count": 234,
     "metadata": {},
     "output_type": "execute_result"
    },
    {
     "data": {
      "image/png": "[encoded data removed]",
      "text/plain": [
       "<Figure size 432x288 with 1 Axes>"
      ]
     },
     "metadata": {
      "needs_background": "light"
     },
     "output_type": "display_data"
    }
   ],
   "source": [
    "import matplotlib.pyplot as plt\n",
    "plt.scatter(y_test, predi)"
   ]
  }
 ],
 "metadata": {
  "kernelspec": {
   "display_name": "Python 3",
   "language": "python",
   "name": "python3"
  },
  "language_info": {
   "codemirror_mode": {
    "name": "ipython",
    "version": 3
   },
   "file_extension": ".py",
   "mimetype": "text/x-python",
   "name": "python",
   "nbconvert_exporter": "python",
   "pygments_lexer": "ipython3",
   "version": "3.8.7+"
  }
 },
 "nbformat": 4,
 "nbformat_minor": 5
}
