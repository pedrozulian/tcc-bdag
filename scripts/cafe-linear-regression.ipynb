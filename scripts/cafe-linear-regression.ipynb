{
 "cells": [
  {
   "cell_type": "code",
   "execution_count": 1,
   "id": "after-mistake",
   "metadata": {},
   "outputs": [
    {
     "name": "stdout",
     "output_type": "stream",
     "text": [
      "WARNING:tensorflow:From /home/pedro/Github/Venvs/tcc-tf/lib/python3.8/site-packages/tensorflow/python/compat/v2_compat.py:96: disable_resource_variables (from tensorflow.python.ops.variable_scope) is deprecated and will be removed in a future version.\n",
      "Instructions for updating:\n",
      "non-resource variables are not supported in the long term\n"
     ]
    }
   ],
   "source": [
    "import numpy as np\n",
    "import pandas as pd\n",
    "import tensorflow.compat.v1 as tf\n",
    "tf.disable_v2_behavior()\n",
    "from sklearn.model_selection import train_test_split\n",
    "from sklearn.preprocessing import MinMaxScaler\n",
    "from sklearn.linear_model import LinearRegression\n",
    "from sklearn.metrics import mean_absolute_error\n",
    "from sklearn.metrics import mean_squared_error, r2_score"
   ]
  },
  {
   "cell_type": "code",
   "execution_count": 2,
   "id": "interior-right",
   "metadata": {},
   "outputs": [
    {
     "data": {
      "text/html": [
       "<div>\n",
       "<style scoped>\n",
       "    .dataframe tbody tr th:only-of-type {\n",
       "        vertical-align: middle;\n",
       "    }\n",
       "\n",
       "    .dataframe tbody tr th {\n",
       "        vertical-align: top;\n",
       "    }\n",
       "\n",
       "    .dataframe thead th {\n",
       "        text-align: right;\n",
       "    }\n",
       "</style>\n",
       "<table border=\"1\" class=\"dataframe\">\n",
       "  <thead>\n",
       "    <tr style=\"text-align: right;\">\n",
       "      <th></th>\n",
       "      <th>preco_anterior_br</th>\n",
       "      <th>preco_2_anterior_br</th>\n",
       "      <th>var_preco_anterior_2_anterior_br</th>\n",
       "      <th>var_preco_anterior_2_anterior_eua</th>\n",
       "      <th>dolar</th>\n",
       "      <th>preco_br</th>\n",
       "    </tr>\n",
       "    <tr>\n",
       "      <th>data</th>\n",
       "      <th></th>\n",
       "      <th></th>\n",
       "      <th></th>\n",
       "      <th></th>\n",
       "      <th></th>\n",
       "      <th></th>\n",
       "    </tr>\n",
       "  </thead>\n",
       "  <tbody>\n",
       "    <tr>\n",
       "      <th>2012-06-01</th>\n",
       "      <td>476.49</td>\n",
       "      <td>481.49</td>\n",
       "      <td>-5.00</td>\n",
       "      <td>0.68</td>\n",
       "      <td>1.8579</td>\n",
       "      <td>481.91</td>\n",
       "    </tr>\n",
       "    <tr>\n",
       "      <th>2012-09-01</th>\n",
       "      <td>481.91</td>\n",
       "      <td>476.49</td>\n",
       "      <td>5.42</td>\n",
       "      <td>5.80</td>\n",
       "      <td>1.8329</td>\n",
       "      <td>488.41</td>\n",
       "    </tr>\n",
       "    <tr>\n",
       "      <th>2012-10-01</th>\n",
       "      <td>488.41</td>\n",
       "      <td>481.91</td>\n",
       "      <td>6.50</td>\n",
       "      <td>6.87</td>\n",
       "      <td>1.7995</td>\n",
       "      <td>491.50</td>\n",
       "    </tr>\n",
       "    <tr>\n",
       "      <th>2012-11-01</th>\n",
       "      <td>491.50</td>\n",
       "      <td>488.41</td>\n",
       "      <td>3.09</td>\n",
       "      <td>7.60</td>\n",
       "      <td>1.8030</td>\n",
       "      <td>504.65</td>\n",
       "    </tr>\n",
       "    <tr>\n",
       "      <th>2012-12-01</th>\n",
       "      <td>504.65</td>\n",
       "      <td>491.50</td>\n",
       "      <td>13.15</td>\n",
       "      <td>0.88</td>\n",
       "      <td>1.7780</td>\n",
       "      <td>501.74</td>\n",
       "    </tr>\n",
       "  </tbody>\n",
       "</table>\n",
       "</div>"
      ],
      "text/plain": [
       "            preco_anterior_br  preco_2_anterior_br  \\\n",
       "data                                                 \n",
       "2012-06-01             476.49               481.49   \n",
       "2012-09-01             481.91               476.49   \n",
       "2012-10-01             488.41               481.91   \n",
       "2012-11-01             491.50               488.41   \n",
       "2012-12-01             504.65               491.50   \n",
       "\n",
       "            var_preco_anterior_2_anterior_br  \\\n",
       "data                                           \n",
       "2012-06-01                             -5.00   \n",
       "2012-09-01                              5.42   \n",
       "2012-10-01                              6.50   \n",
       "2012-11-01                              3.09   \n",
       "2012-12-01                             13.15   \n",
       "\n",
       "            var_preco_anterior_2_anterior_eua   dolar  preco_br  \n",
       "data                                                             \n",
       "2012-06-01                               0.68  1.8579    481.91  \n",
       "2012-09-01                               5.80  1.8329    488.41  \n",
       "2012-10-01                               6.87  1.7995    491.50  \n",
       "2012-11-01                               7.60  1.8030    504.65  \n",
       "2012-12-01                               0.88  1.7780    501.74  "
      ]
     },
     "execution_count": 2,
     "metadata": {},
     "output_type": "execute_result"
    }
   ],
   "source": [
    "df = pd.read_csv('../data/dados-cafe-testes.csv')\n",
    "df['data'] = pd.to_datetime(df['data'])\n",
    "df = df.set_index(\"data\")\n",
    "df.head()"
   ]
  },
  {
   "cell_type": "code",
   "execution_count": 3,
   "id": "cubic-tracker",
   "metadata": {},
   "outputs": [],
   "source": [
    "# scaler_x = MinMaxScaler()\n",
    "# df[['dolar', 'var_preco_anterior_2_anterior_br', 'preco_robusta_br']] = scaler_x.fit_transform(df[['dolar', 'var_preco_anterior_2_anterior_br', 'preco_robusta_br']])"
   ]
  },
  {
   "cell_type": "code",
   "execution_count": 4,
   "id": "settled-condition",
   "metadata": {},
   "outputs": [],
   "source": [
    "# scaler_y = MinMaxScaler()\n",
    "# df[['preco_br']] = scaler_y.fit_transform(df[['preco_br']])"
   ]
  },
  {
   "cell_type": "code",
   "execution_count": 5,
   "id": "recorded-american",
   "metadata": {
    "scrolled": true
   },
   "outputs": [
    {
     "name": "stdout",
     "output_type": "stream",
     "text": [
      "TRAIN:  [2012] TEST:  [2013]\n",
      "0.9808018066373827\n",
      "TRAIN:  [2012, 2013] TEST:  [2014]\n",
      "0.9915091287338541\n",
      "TRAIN:  [2012, 2013, 2014] TEST:  [2015]\n",
      "0.9667625642274486\n",
      "TRAIN:  [2012, 2013, 2014, 2015] TEST:  [2016]\n",
      "0.9752895772925418\n",
      "TRAIN:  [2012, 2013, 2014, 2015, 2016] TEST:  [2017]\n",
      "0.9846261146855474\n",
      "TRAIN:  [2012, 2013, 2014, 2015, 2016, 2017] TEST:  [2018]\n",
      "0.9494863641239973\n",
      "TRAIN:  [2012, 2013, 2014, 2015, 2016, 2017, 2018] TEST:  [2019]\n",
      "0.9942024861107802\n",
      "TRAIN:  [2012, 2013, 2014, 2015, 2016, 2017, 2018, 2019] TEST:  [2020]\n",
      "0.9826742387938187\n"
     ]
    }
   ],
   "source": [
    "year_list = df.index.year.unique().tolist()\n",
    "splits = {'train': [], 'test': []}\n",
    "\n",
    "for idx, yr in enumerate(year_list[:-1]):\n",
    "    train_yr = year_list[:idx+1]\n",
    "    test_yr = [year_list[idx+1]]\n",
    "    print('TRAIN: ', train_yr, 'TEST: ',test_yr)\n",
    "    \n",
    "    splits['train'].append(df.loc[df.index.year.isin(train_yr), :])\n",
    "    splits['test'].append(df.loc[df.index.year.isin(test_yr), :])\n",
    "    \n",
    "    X_train = splits['train'][idx].drop(['preco_br'], axis = 1).values # X\n",
    "    y_train = splits['train'][idx]['preco_br'].values # Y\n",
    "    \n",
    "    X_test =  splits['test'][idx].drop(['preco_br'], axis = 1).values\n",
    "    y_test = splits['test'][idx]['preco_br'].values\n",
    "    \n",
    "    reg = LinearRegression().fit(X_train, y_train)\n",
    "    \n",
    "    predi = reg.predict(X_test)\n",
    "    \n",
    "    print(r2_score(y_test, predi))"
   ]
  },
  {
   "cell_type": "code",
   "execution_count": 7,
   "id": "centered-thanksgiving",
   "metadata": {
    "scrolled": true
   },
   "outputs": [
    {
     "data": {
      "text/plain": [
       "<matplotlib.collections.PathCollection at 0x7f215948fa30>"
      ]
     },
     "execution_count": 7,
     "metadata": {},
     "output_type": "execute_result"
    },
    {
     "data": {
      "image/png": "[encoded data removed]",
      "text/plain": [
       "<Figure size 432x288 with 1 Axes>"
      ]
     },
     "metadata": {
      "needs_background": "light"
     },
     "output_type": "display_data"
    }
   ],
   "source": [
    "import matplotlib.pyplot as plt\n",
    "plt.scatter(y_test, predi)"
   ]
  }
 ],
 "metadata": {
  "kernelspec": {
   "display_name": "Python 3",
   "language": "python",
   "name": "python3"
  },
  "language_info": {
   "codemirror_mode": {
    "name": "ipython",
    "version": 3
   },
   "file_extension": ".py",
   "mimetype": "text/x-python",
   "name": "python",
   "nbconvert_exporter": "python",
   "pygments_lexer": "ipython3",
   "version": "3.8.7+"
  }
 },
 "nbformat": 4,
 "nbformat_minor": 5
}
